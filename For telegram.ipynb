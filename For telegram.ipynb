{
 "cells": [
  {
   "cell_type": "code",
   "execution_count": null,
   "metadata": {
    "ExecuteTime": {
     "end_time": "2021-10-25T17:42:44.142194Z",
     "start_time": "2021-10-25T17:42:28.443911Z"
    }
   },
   "outputs": [],
   "source": [
    "import telebot\n",
    "from telebot import types\n",
    "import talib\n",
    "import pandas as pd\n",
    "from openapi_client import openapi\n",
    "import datetime\n",
    "from pandas_datareader import data as pdr\n",
    "import yahoo_fin.stock_info as si"
   ]
  },
  {
   "cell_type": "code",
   "execution_count": null,
   "metadata": {
    "ExecuteTime": {
     "end_time": "2021-10-23T21:37:45.284265Z",
     "start_time": "2021-10-23T21:37:44.968828Z"
    }
   },
   "outputs": [],
   "source": [
    "datetime.datetime.today().date()"
   ]
  },
  {
   "cell_type": "code",
   "execution_count": null,
   "metadata": {},
   "outputs": [],
   "source": [
    "bot = telebot.TeleBot('')\n",
    "final_stocks_path_in = ''"
   ]
  },
  {
   "cell_type": "code",
   "execution_count": null,
   "metadata": {},
   "outputs": [],
   "source": [
    "\n",
    "hi_message = \"Keep on moving fuckin stcoks dogs\"\n",
    "\n",
    "keyboard = telebot.types.ReplyKeyboardMarkup(True, True)\n",
    "keyboard.row('RSI+', 'RSI-', 'Rate+','Rate-')\n",
    "\n",
    "with open(final_stocks_path_in) as pt:\n",
    "    total_tickers = pd.read_csv(pt,sep=';',encoding='utf8')\n",
    "\n",
    "tinkoff = {}\n",
    "list_of_stocs=list(total_tickers['ticker'][0:588])\n",
    "for ticker in list_of_stocs:\n",
    "    tinkoff[ticker] = si.get_data(ticker, start_date='01-10-2021', index_as_date = False, interval='1d').sort_values(by='date')\n",
    "\n",
    "data = pd.concat(tinkoff)\n",
    "data.reset_index(drop=True, inplace=True)\n",
    "\n"
   ]
  },
  {
   "cell_type": "code",
   "execution_count": null,
   "metadata": {},
   "outputs": [],
   "source": [
    "@bot.message_handler(commands=['start'])\n",
    "def start_message(message):\n",
    "    bot.send_message(message.chat.id, hi_message, reply_markup=keyboard)\n",
    "    "
   ]
  },
  {
   "cell_type": "code",
   "execution_count": null,
   "metadata": {},
   "outputs": [],
   "source": [
    "@bot.message_handler(content_types=['text'])\n",
    "def get_text_message(message):\n",
    "    if message.content_type == 'text':\n",
    "        if message.text == 'RSI+':\n",
    "            bot.send_message(message.from_user.id, \"Есть пожелания или вопросы\")\n",
    "        elif message.text == 'Мои ссылки':"
   ]
  },
  {
   "cell_type": "code",
   "execution_count": null,
   "metadata": {},
   "outputs": [],
   "source": [
    "bot.polling(none_stop=True, interval=5)"
   ]
  },
  {
   "cell_type": "code",
   "execution_count": null,
   "metadata": {
    "ExecuteTime": {
     "end_time": "2021-10-22T19:13:53.642621Z",
     "start_time": "2021-10-22T19:12:59.219623Z"
    }
   },
   "outputs": [],
   "source": [
    "conda info"
   ]
  },
  {
   "cell_type": "code",
   "execution_count": null,
   "metadata": {
    "ExecuteTime": {
     "end_time": "2021-10-22T18:09:44.014214Z",
     "start_time": "2021-10-22T18:09:43.770642Z"
    }
   },
   "outputs": [],
   "source": [
    "\n",
    "\n",
    "with open(final_stocks_path_in) as pt:\n",
    "    total_tickers = pd.read_csv(pt,sep=';',encoding='utf8')"
   ]
  },
  {
   "cell_type": "code",
   "execution_count": null,
   "metadata": {
    "ExecuteTime": {
     "end_time": "2021-10-22T18:17:01.276332Z",
     "start_time": "2021-10-22T18:09:50.530155Z"
    }
   },
   "outputs": [],
   "source": [
    "tinkoff = {}\n",
    "list_of_stocs=list(total_tickers['ticker'][0:588])\n",
    "for ticker in list_of_stocs:\n",
    "    tinkoff[ticker] = si.get_data(ticker, start_date=datetime.datetime.today().strftime('%Y-%m-%d'), index_as_date = False, interval='1d').sort_values(by='date')\n",
    "\n",
    "data = pd.concat(tinkoff)\n",
    "data.reset_index(drop=True, inplace=True)"
   ]
  },
  {
   "cell_type": "code",
   "execution_count": null,
   "metadata": {
    "ExecuteTime": {
     "end_time": "2021-10-22T18:17:05.436390Z",
     "start_time": "2021-10-22T18:17:05.152196Z"
    }
   },
   "outputs": [],
   "source": [
    "data['Volatility 14'] = talib.ATR(data['high'],data['low'], data['close'], timeperiod=14)\n",
    "data['Mid point price 14'] = talib.MIDPRICE(data['high'],data['low'], timeperiod=14)\n",
    "data['vola 14 %']=data['Volatility 14']/data['Mid point price 14']*100\n",
    "data['Rate of Change %'] = talib.ROC(data['close'],1)\n",
    "data['RSI_14']= talib.RSI(data['close'],14) "
   ]
  },
  {
   "cell_type": "code",
   "execution_count": null,
   "metadata": {
    "ExecuteTime": {
     "end_time": "2021-10-22T18:17:10.003782Z",
     "start_time": "2021-10-22T18:17:09.548934Z"
    }
   },
   "outputs": [],
   "source": [
    "final_stocks = total_tickers.merge(data,how='inner',left_on='ticker',right_on='ticker')\n",
    "aapl_clusters = final_stocks[(final_stocks['date']==final_stocks['date'].max())].reset_index()"
   ]
  },
  {
   "cell_type": "code",
   "execution_count": null,
   "metadata": {},
   "outputs": [],
   "source": [
    "tinkoff = {}\n",
    "            list_of_stocs=list(Data['ticker'][0:588])\n",
    "            for ticker in list_of_stocs:\n",
    "                tinkoff[ticker] = si.get_data(ticker, start_date=datetime.datetime.today().date(), index_as_date = False, interval='1d').sort_values(by='date')\n",
    "            \n",
    "            T = pd.concat(tinkoff)\n",
    "            T.reset_index(drop=True, inplace=True)\n",
    "\n",
    "            final_data = pd.concat(['Data','T'])\n",
    "            \n",
    "            "
   ]
  },
  {
   "cell_type": "code",
   "execution_count": null,
   "metadata": {
    "ExecuteTime": {
     "end_time": "2021-10-22T18:51:09.294908Z",
     "start_time": "2021-10-22T18:51:08.747574Z"
    }
   },
   "outputs": [],
   "source": [
    "aapl_clusters[['ticker','Rate of Change %']].sort_values(by='Rate of Change %',ascending=False).head(10)"
   ]
  },
  {
   "cell_type": "code",
   "execution_count": null,
   "metadata": {
    "ExecuteTime": {
     "end_time": "2021-10-22T18:52:52.739890Z",
     "start_time": "2021-10-22T18:52:52.667818Z"
    }
   },
   "outputs": [],
   "source": [
    "aapl_clusters[['ticker','Rate of Change %']].sort_values(by='Rate of Change %',ascending=False).tail(10)"
   ]
  },
  {
   "cell_type": "code",
   "execution_count": null,
   "metadata": {
    "ExecuteTime": {
     "end_time": "2021-10-22T18:52:04.118996Z",
     "start_time": "2021-10-22T18:52:04.070012Z"
    }
   },
   "outputs": [],
   "source": [
    "aapl_clusters[['ticker','RSI_14']].sort_values(by='RSI_14',ascending=False).head(10)"
   ]
  },
  {
   "cell_type": "code",
   "execution_count": null,
   "metadata": {
    "ExecuteTime": {
     "end_time": "2021-10-22T18:54:07.892473Z",
     "start_time": "2021-10-22T18:54:07.836489Z"
    }
   },
   "outputs": [],
   "source": [
    "aapl_clusters[['ticker','RSI_14']].sort_values(by='RSI_14',ascending=False).tail(10)"
   ]
  },
  {
   "cell_type": "code",
   "execution_count": null,
   "metadata": {
    "ExecuteTime": {
     "end_time": "2021-10-22T20:49:43.205099Z",
     "start_time": "2021-10-22T20:49:43.104175Z"
    }
   },
   "outputs": [],
   "source": [
    "A = aapl_clusters[['ticker','RSI_14']].sort_values(by='RSI_14',ascending=False).tail(10)"
   ]
  },
  {
   "cell_type": "code",
   "execution_count": null,
   "metadata": {
    "ExecuteTime": {
     "end_time": "2021-10-25T17:51:09.543728Z",
     "start_time": "2021-10-25T17:51:04.617043Z"
    }
   },
   "outputs": [],
   "source": [
    "l=['aapl','ebay','clf']\n",
    "for i in l:\n",
    "    print(i,si.get_quote_table(i)['Earnings Date'])"
   ]
  },
  {
   "cell_type": "code",
   "execution_count": null,
   "metadata": {
    "ExecuteTime": {
     "end_time": "2021-10-22T20:58:37.613318Z",
     "start_time": "2021-10-22T20:58:37.560318Z"
    }
   },
   "outputs": [],
   "source": [
    "for i, j in A.iterrows():\n",
    "    print(i,j)"
   ]
  },
  {
   "cell_type": "code",
   "execution_count": null,
   "metadata": {
    "ExecuteTime": {
     "end_time": "2021-10-22T21:04:15.625557Z",
     "start_time": "2021-10-22T21:04:15.597520Z"
    }
   },
   "outputs": [],
   "source": [
    "def RSI(table):\n",
    "    A = table[['ticker','RSI_14']].sort_values(by='RSI_14',ascending=False).tail(10)\n",
    "    for i, j in A.iterrows():\n",
    "        print(i,j)"
   ]
  },
  {
   "cell_type": "code",
   "execution_count": null,
   "metadata": {
    "ExecuteTime": {
     "end_time": "2021-10-22T21:23:47.773543Z",
     "start_time": "2021-10-22T21:23:47.691519Z"
    }
   },
   "outputs": [],
   "source": [
    "str(RSI(aapl_clusters))"
   ]
  },
  {
   "cell_type": "code",
   "execution_count": null,
   "metadata": {
    "ExecuteTime": {
     "end_time": "2021-10-23T20:51:44.664090Z",
     "start_time": "2021-10-23T20:51:44.646033Z"
    }
   },
   "outputs": [],
   "source": [
    "patyh_excel = 'C:/Users/artam/OneDrive/Рабочий стол/Projects/Stocks/From Python.xlsx'\n"
   ]
  },
  {
   "cell_type": "code",
   "execution_count": null,
   "metadata": {
    "ExecuteTime": {
     "end_time": "2021-10-23T20:51:55.509277Z",
     "start_time": "2021-10-23T20:51:47.097096Z"
    }
   },
   "outputs": [],
   "source": [
    "for_test = pd.read_excel(patyh_excel)"
   ]
  },
  {
   "cell_type": "code",
   "execution_count": null,
   "metadata": {
    "ExecuteTime": {
     "end_time": "2021-10-22T22:05:52.476252Z",
     "start_time": "2021-10-22T22:05:52.289223Z"
    }
   },
   "outputs": [],
   "source": [
    "for_test.head(5)"
   ]
  },
  {
   "cell_type": "code",
   "execution_count": null,
   "metadata": {
    "ExecuteTime": {
     "end_time": "2021-10-23T20:51:13.555407Z",
     "start_time": "2021-10-23T20:50:16.324551Z"
    }
   },
   "outputs": [],
   "source": [
    "import dataframe_image as dfi"
   ]
  },
  {
   "cell_type": "code",
   "execution_count": null,
   "metadata": {
    "ExecuteTime": {
     "end_time": "2021-10-23T20:52:09.370093Z",
     "start_time": "2021-10-23T20:51:58.057169Z"
    }
   },
   "outputs": [],
   "source": [
    "dfi.export(for_test.head(5), 'RSI.jpg')"
   ]
  },
  {
   "cell_type": "code",
   "execution_count": null,
   "metadata": {
    "ExecuteTime": {
     "end_time": "2021-10-22T21:01:39.561983Z",
     "start_time": "2021-10-22T21:01:39.510981Z"
    }
   },
   "outputs": [],
   "source": [
    "def RSI(table):\n",
    "\t\n",
    "    for i, j in A.iterrows():\n",
    "        print(i,j)\n"
   ]
  },
  {
   "cell_type": "code",
   "execution_count": null,
   "metadata": {},
   "outputs": [],
   "source": [
    "bot.polling(none_stop=True, interval=5)"
   ]
  }
 ],
 "metadata": {
  "kernelspec": {
   "display_name": "Python 3 (ipykernel)",
   "language": "python",
   "name": "python3"
  },
  "language_info": {
   "codemirror_mode": {
    "name": "ipython",
    "version": 3
   },
   "file_extension": ".py",
   "mimetype": "text/x-python",
   "name": "python",
   "nbconvert_exporter": "python",
   "pygments_lexer": "ipython3",
   "version": "3.9.12"
  }
 },
 "nbformat": 4,
 "nbformat_minor": 4
}
