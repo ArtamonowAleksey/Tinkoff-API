{
 "cells": [
  {
   "cell_type": "code",
   "execution_count": null,
   "metadata": {
    "ExecuteTime": {
     "end_time": "2021-11-13T17:35:52.567942Z",
     "start_time": "2021-11-13T17:35:24.803957Z"
    }
   },
   "outputs": [],
   "source": [
    "import talib\n",
    "import pandas as pd\n",
    "import numpy as np\n",
    "from openapi_client import openapi\n",
    "import json as js\n",
    "import datetime\n",
    "from pandas_datareader import data as pdr\n",
    "import yahoo_fin.stock_info as si\n",
    "from alpha_vantage.sectorperformance import SectorPerformances\n",
    "import configparser  # импортируем библиотеку\n",
    "\n"
   ]
  },
  {
   "cell_type": "code",
   "execution_count": null,
   "metadata": {
    "ExecuteTime": {
     "end_time": "2021-11-13T17:36:00.470177Z",
     "start_time": "2021-11-13T17:36:00.426207Z"
    }
   },
   "outputs": [],
   "source": [
    "config = configparser.ConfigParser()\n",
    "config['DEFAULT'] = {'token': '',\n",
    "                    'path_to_page': '',\n",
    "                    'path_to_excel': ''}\n",
    "\n",
    "with open('', 'w') as configfile:\n",
    "    config.write(configfile)"
   ]
  },
  {
   "cell_type": "code",
   "execution_count": null,
   "metadata": {
    "ExecuteTime": {
     "end_time": "2021-11-03T18:44:53.089292Z",
     "start_time": "2021-11-03T18:44:53.071323Z"
    }
   },
   "outputs": [],
   "source": [
    "config['DEFAULT']['token']"
   ]
  },
  {
   "cell_type": "code",
   "execution_count": null,
   "metadata": {
    "ExecuteTime": {
     "end_time": "2021-11-13T17:36:33.295254Z",
     "start_time": "2021-11-13T17:36:33.273286Z"
    }
   },
   "outputs": [],
   "source": [
    "config_2 = configparser.ConfigParser()"
   ]
  },
  {
   "cell_type": "code",
   "execution_count": null,
   "metadata": {
    "ExecuteTime": {
     "end_time": "2021-11-13T17:36:36.383678Z",
     "start_time": "2021-11-13T17:36:36.330716Z"
    }
   },
   "outputs": [],
   "source": [
    "config_2.read(\"\")"
   ]
  },
  {
   "cell_type": "code",
   "execution_count": null,
   "metadata": {
    "ExecuteTime": {
     "end_time": "2021-11-03T18:47:39.716823Z",
     "start_time": "2021-11-03T18:47:39.703855Z"
    }
   },
   "outputs": [],
   "source": [
    "config_2['DEFAULT']['token']"
   ]
  },
  {
   "cell_type": "code",
   "execution_count": null,
   "metadata": {
    "ExecuteTime": {
     "end_time": "2021-11-03T18:37:01.791641Z",
     "start_time": "2021-11-03T18:37:01.699686Z"
    }
   },
   "outputs": [],
   "source": [
    "config = configparser.ConfigParser()  # создаём объекта парсера\n",
    "config.read(\"\")  # читаем конфиг"
   ]
  },
  {
   "cell_type": "code",
   "execution_count": null,
   "metadata": {
    "ExecuteTime": {
     "end_time": "2021-10-31T16:02:32.829516Z",
     "start_time": "2021-10-31T16:02:32.809517Z"
    }
   },
   "outputs": [],
   "source": [
    "datetime.datetime.now().strftime(\"%Y-%m-%d %H:%M\")"
   ]
  },
  {
   "cell_type": "code",
   "execution_count": null,
   "metadata": {
    "ExecuteTime": {
     "end_time": "2021-11-13T17:37:08.427012Z",
     "start_time": "2021-11-13T17:37:08.049998Z"
    }
   },
   "outputs": [],
   "source": [
    "final_stocks_path_in = ''\n",
    "\n",
    "with open(final_stocks_path_in) as pt:\n",
    "    total_tickers = pd.read_csv(pt,sep=';',encoding='utf8')"
   ]
  },
  {
   "cell_type": "code",
   "execution_count": null,
   "metadata": {
    "ExecuteTime": {
     "end_time": "2021-10-26T20:36:42.693673Z",
     "start_time": "2021-10-26T20:24:38.535584Z"
    }
   },
   "outputs": [],
   "source": [
    "tinkoff = {}\n",
    "list_of_stocs=list(total_tickers['ticker'][0:588])\n",
    "for ticker in list_of_stocs:\n",
    "    tinkoff[ticker] = si.get_data(ticker, start_date='25-10-2021', index_as_date = False, interval='1d').sort_values(by='date')\n",
    "\n",
    "data = pd.concat(tinkoff)\n",
    "data.reset_index(drop=True, inplace=True)"
   ]
  },
  {
   "cell_type": "code",
   "execution_count": null,
   "metadata": {
    "ExecuteTime": {
     "end_time": "2021-10-26T20:39:38.541911Z",
     "start_time": "2021-10-26T20:39:38.418996Z"
    }
   },
   "outputs": [],
   "source": [
    "data.head(2)"
   ]
  },
  {
   "cell_type": "code",
   "execution_count": null,
   "metadata": {
    "ExecuteTime": {
     "end_time": "2021-10-26T20:19:20.798510Z",
     "start_time": "2021-10-26T20:19:20.767511Z"
    }
   },
   "outputs": [],
   "source": [
    "datetime.datetime.today().strftime('%d-%m-%Y')"
   ]
  },
  {
   "cell_type": "code",
   "execution_count": null,
   "metadata": {
    "ExecuteTime": {
     "end_time": "2021-10-26T20:20:47.783819Z",
     "start_time": "2021-10-26T20:20:47.755752Z"
    }
   },
   "outputs": [],
   "source": [
    "(datetime.datetime.today() - datetime.timedelta(days=15)).strftime('%d-%m-%Y')"
   ]
  },
  {
   "cell_type": "code",
   "execution_count": null,
   "metadata": {
    "ExecuteTime": {
     "end_time": "2021-10-26T20:43:00.933907Z",
     "start_time": "2021-10-26T20:43:00.891907Z"
    },
    "scrolled": true
   },
   "outputs": [],
   "source": [
    "data['Volatility 14'] = talib.ATR(data['high'],data['low'], data['close'], timeperiod=14)\n",
    "data['Mid point price 14'] = talib.MIDPRICE(data['high'],data['low'], timeperiod=14)\n",
    "data['vola 14 %']=data['Volatility 14']/data['Mid point price 14']*100\n",
    "data['Rate of Change %'] = talib.ROC(data['close'],1)\n",
    "data['RSI_14']= talib.RSI(data['close'],14) \n",
    "data['MOM'] = abs(abs(data['Rate of Change %'])-abs(data['vola 14 %']))\n",
    "data['tail_up'] =(data['high']-data['close'])/data['close'] \n",
    "data['tail_down'] =(data['low']-data['close'])/data['close'] \n",
    "#data['MOM_14'] = talib.MOM(data['close'], timeperiod=14)"
   ]
  },
  {
   "cell_type": "code",
   "execution_count": null,
   "metadata": {
    "ExecuteTime": {
     "end_time": "2021-10-24T18:59:23.407107Z",
     "start_time": "2021-10-24T18:59:23.200011Z"
    }
   },
   "outputs": [],
   "source": [
    "final_stocks = total_tickers.merge(data,how='inner',left_on='ticker',right_on='ticker')\n",
    "aapl_clusters = final_stocks[(final_stocks['date']==final_stocks['date'].max())].reset_index()"
   ]
  },
  {
   "cell_type": "code",
   "execution_count": null,
   "metadata": {
    "ExecuteTime": {
     "end_time": "2021-10-24T18:59:26.292199Z",
     "start_time": "2021-10-24T18:59:25.311783Z"
    }
   },
   "outputs": [],
   "source": [
    "patyh_excel = ''\n",
    "aapl_clusters.to_excel(patyh_excel)"
   ]
  },
  {
   "cell_type": "code",
   "execution_count": null,
   "metadata": {
    "ExecuteTime": {
     "end_time": "2021-10-24T19:00:38.726039Z",
     "start_time": "2021-10-24T19:00:38.328824Z"
    }
   },
   "outputs": [],
   "source": [
    "aapl_clusters.head(2)"
   ]
  },
  {
   "cell_type": "code",
   "execution_count": null,
   "metadata": {
    "ExecuteTime": {
     "end_time": "2021-10-24T19:22:39.707918Z",
     "start_time": "2021-10-24T19:22:39.656821Z"
    }
   },
   "outputs": [],
   "source": [
    "# Расчет подскочивших и доступных в шорт\n",
    "\n",
    "aapl_clusters[['ticker','Rate of Change %','vola 14 %','MOM']][(aapl_clusters['MOM']>=aapl_clusters['vola 14 %']) & (aapl_clusters['Short_available']=='Доступен') & (aapl_clusters['Rate of Change %']>0)].sort_values(by='MOM',ascending=False).reset_index().head(10)"
   ]
  },
  {
   "cell_type": "code",
   "execution_count": null,
   "metadata": {
    "ExecuteTime": {
     "end_time": "2021-10-24T19:41:14.997863Z",
     "start_time": "2021-10-24T19:41:14.948047Z"
    }
   },
   "outputs": [],
   "source": [
    "aapl_clusters[['ticker','Short_available','Rate of Change %','vola 14 %','MOM']][(aapl_clusters['Rate of Change %']>=aapl_clusters['MOM']) & (aapl_clusters['Short_available']=='Доступен')].sort_values(by='MOM',ascending=False).reset_index().head(10)"
   ]
  },
  {
   "cell_type": "code",
   "execution_count": null,
   "metadata": {
    "ExecuteTime": {
     "end_time": "2021-10-24T19:18:33.375442Z",
     "start_time": "2021-10-24T19:18:33.321400Z"
    }
   },
   "outputs": [],
   "source": [
    "# Расчет упавших\n",
    "\n",
    "aapl_clusters[['ticker','Rate of Change %','vola 14 %','MOM']][(abs(aapl_clusters['Rate of Change %'])>=aapl_clusters['MOM']) & (aapl_clusters['Rate of Change %']<0)].sort_values(by='MOM',ascending=False).reset_index().head(10)"
   ]
  },
  {
   "cell_type": "code",
   "execution_count": null,
   "metadata": {
    "ExecuteTime": {
     "end_time": "2021-10-19T18:23:35.302208Z",
     "start_time": "2021-10-19T18:23:34.552150Z"
    }
   },
   "outputs": [],
   "source": [
    "sp = SectorPerformances(key='', output_format='pandas')\n",
    "data, meta_data = sp.get_sector()"
   ]
  },
  {
   "cell_type": "code",
   "execution_count": null,
   "metadata": {
    "ExecuteTime": {
     "end_time": "2021-10-19T18:23:47.313008Z",
     "start_time": "2021-10-19T18:23:37.406105Z"
    }
   },
   "outputs": [],
   "source": [
    "sector = ''\n",
    "data.to_excel(sector)"
   ]
  },
  {
   "cell_type": "code",
   "execution_count": null,
   "metadata": {
    "ExecuteTime": {
     "end_time": "2021-09-29T21:02:38.488981Z",
     "start_time": "2021-09-29T21:02:38.119927Z"
    }
   },
   "outputs": [],
   "source": [
    "ETF = ''\n",
    "\n",
    "with open(ETF) as pt:\n",
    "    total_ETF = pd.read_csv(pt,sep=';',encoding='utf8')"
   ]
  },
  {
   "cell_type": "code",
   "execution_count": null,
   "metadata": {
    "ExecuteTime": {
     "end_time": "2021-09-29T21:06:22.443403Z",
     "start_time": "2021-09-29T21:06:17.348840Z"
    }
   },
   "outputs": [],
   "source": [
    "tinkoff = {}\n",
    "list_of_stocs=list(total_ETF['п»їETF'][0:60])\n",
    "for ticker in list_of_stocs:\n",
    "    tinkoff[ticker] = si.get_data(ticker, start_date='09-09-2021', index_as_date = False, interval='1d').sort_values(by='date')\n",
    "\n",
    "ETF_DATA = pd.concat(tinkoff)\n",
    "ETF_DATA.reset_index(drop=True, inplace=True)"
   ]
  },
  {
   "cell_type": "code",
   "execution_count": null,
   "metadata": {
    "ExecuteTime": {
     "end_time": "2021-09-29T20:58:46.263264Z",
     "start_time": "2021-09-29T20:58:45.262480Z"
    }
   },
   "outputs": [],
   "source": [
    "si.get_company_info('XSD')"
   ]
  }
 ],
 "metadata": {
  "kernelspec": {
   "display_name": "Python 3 (ipykernel)",
   "language": "python",
   "name": "python3"
  },
  "language_info": {
   "codemirror_mode": {
    "name": "ipython",
    "version": 3
   },
   "file_extension": ".py",
   "mimetype": "text/x-python",
   "name": "python",
   "nbconvert_exporter": "python",
   "pygments_lexer": "ipython3",
   "version": "3.9.12"
  }
 },
 "nbformat": 4,
 "nbformat_minor": 4
}
