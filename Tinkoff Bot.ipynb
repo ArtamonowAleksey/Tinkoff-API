{
 "cells": [
  {
   "cell_type": "code",
   "execution_count": null,
   "metadata": {
    "ExecuteTime": {
     "end_time": "2020-10-12T06:23:30.100854Z",
     "start_time": "2020-10-12T06:23:08.447611Z"
    }
   },
   "outputs": [],
   "source": [
    "import talib\n",
    "import pandas as pd\n",
    "import numpy as np\n",
    "from openapi_client import openapi\n",
    "import json as js\n",
    "import datetime\n",
    "from pandas_datareader import data as pdr"
   ]
  },
  {
   "cell_type": "code",
   "execution_count": null,
   "metadata": {
    "ExecuteTime": {
     "end_time": "2020-10-12T06:23:33.312139Z",
     "start_time": "2020-10-12T06:23:33.277133Z"
    }
   },
   "outputs": [],
   "source": [
    "token = ''  \n",
    "client = openapi.api_client(token)"
   ]
  },
  {
   "cell_type": "code",
   "execution_count": null,
   "metadata": {
    "ExecuteTime": {
     "end_time": "2020-10-12T06:48:12.696340Z",
     "start_time": "2020-10-12T06:48:10.449878Z"
    }
   },
   "outputs": [],
   "source": [
    "# $ Котировки Тинькофф\n",
    "\n",
    "stocks = client.market.market_stocks_get() \n",
    "\n",
    "stocks_dict = {}\n",
    "\n",
    "for i in range(len(stocks.payload.instruments)):\n",
    "    stocks_dict[i] = {'figi':stocks.payload.instruments[i].figi,'ticker':stocks.payload.instruments[i].ticker,\\\n",
    "    'name':stocks.payload.instruments[i].name,'Currency':stocks.payload.instruments[i].currency}\n",
    "    \n",
    "df_stocks = pd.DataFrame.from_dict(stocks_dict,orient='index')\n",
    "df_stocks = df_stocks[(df_stocks['Currency']=='USD')]\n",
    "df_stocks.head(2)"
   ]
  },
  {
   "cell_type": "code",
   "execution_count": null,
   "metadata": {
    "ExecuteTime": {
     "end_time": "2020-10-12T06:48:21.357778Z",
     "start_time": "2020-10-12T06:48:21.138109Z"
    },
    "scrolled": false
   },
   "outputs": [],
   "source": [
    "df_stocks[df_stocks.name.isin(['Southwestern Energy', 'Ford','Endo International PLC'])]"
   ]
  },
  {
   "cell_type": "code",
   "execution_count": null,
   "metadata": {
    "ExecuteTime": {
     "end_time": "2020-10-12T07:00:03.217376Z",
     "start_time": "2020-10-12T07:00:02.365545Z"
    }
   },
   "outputs": [],
   "source": [
    "# Выставление лимитной заявки\n",
    "\n",
    "# Ford \n",
    "\n",
    "client.orders.orders_limit_order_post(figi='BBG000BQPC32',\n",
    "                                                           limit_order_request={\"lots\": 90,\n",
    "                                                                                \"operation\": \"Sell\",\n",
    "                                                                                \"price\": 7.26})"
   ]
  },
  {
   "cell_type": "code",
   "execution_count": null,
   "metadata": {
    "ExecuteTime": {
     "end_time": "2020-10-12T07:00:50.436047Z",
     "start_time": "2020-10-12T07:00:50.257143Z"
    }
   },
   "outputs": [],
   "source": [
    "# Southwestern Energy\n",
    "\n",
    "client.orders.orders_limit_order_post(figi='BBG000BTR593',\n",
    "                                                           limit_order_request={\"lots\": 240,\n",
    "                                                                                \"operation\": \"Sell\",\n",
    "                                                                                \"price\": 2.97})"
   ]
  },
  {
   "cell_type": "code",
   "execution_count": null,
   "metadata": {
    "ExecuteTime": {
     "end_time": "2020-10-12T07:00:25.915431Z",
     "start_time": "2020-10-12T07:00:25.544215Z"
    }
   },
   "outputs": [],
   "source": [
    "\n",
    "# Endo International PLC\n",
    "\n",
    "client.orders.orders_limit_order_post(figi='BBG000C0HQ54',\n",
    "                                                           limit_order_request={\"lots\": 70,\n",
    "                                                                                \"operation\": \"Sell\",\n",
    "                                                                                \"price\": 5.01})"
   ]
  },
  {
   "cell_type": "code",
   "execution_count": null,
   "metadata": {},
   "outputs": [],
   "source": [
    "# Текущие заявки \n",
    "\n",
    "orders = client.orders.orders_get()\n",
    "orders_dict={}\n",
    "for i in range(len(orders.payload)):\n",
    "    orders_dict[i] = {'figi':orders.payload[i].figi,'order_id':orders.payload[i].order_id,'price':orders.payload[i].price,\\\n",
    "                     'lots':orders.payload[i].requested_lots,'operation':orders.payload[i].operation,'status':orders.payload[i].status}\n",
    "    \n",
    "df_orders = pd.DataFrame.from_dict(orders_dict,orient='index')"
   ]
  },
  {
   "cell_type": "code",
   "execution_count": null,
   "metadata": {},
   "outputs": [],
   "source": [
    "df_orders"
   ]
  },
  {
   "cell_type": "code",
   "execution_count": null,
   "metadata": {
    "ExecuteTime": {
     "end_time": "2020-10-11T17:43:43.500736Z",
     "start_time": "2020-10-11T17:43:43.444703Z"
    }
   },
   "outputs": [],
   "source": [
    "orders = client.orders.orders_get()"
   ]
  },
  {
   "cell_type": "code",
   "execution_count": null,
   "metadata": {
    "ExecuteTime": {
     "end_time": "2020-10-11T17:43:52.076760Z",
     "start_time": "2020-10-11T17:43:52.056733Z"
    }
   },
   "outputs": [],
   "source": [
    "orders"
   ]
  },
  {
   "cell_type": "code",
   "execution_count": null,
   "metadata": {
    "ExecuteTime": {
     "end_time": "2020-10-11T17:44:57.497070Z",
     "start_time": "2020-10-11T17:44:57.479107Z"
    }
   },
   "outputs": [],
   "source": [
    "orders.payload"
   ]
  },
  {
   "cell_type": "code",
   "execution_count": null,
   "metadata": {
    "ExecuteTime": {
     "end_time": "2020-10-11T17:46:05.482897Z",
     "start_time": "2020-10-11T17:46:05.369625Z"
    }
   },
   "outputs": [],
   "source": [
    "orders = client.orders.orders_get()\n",
    "orders_dict={}\n",
    "for i in range(len(orders.payload)):\n",
    "    orders_dict[i] = {'figi':orders.payload[i].figi,'order_id':orders.payload[i].order_id,'price':orders.payload[i].price,\\\n",
    "                     'lots':orders.payload[i].requested_lots,'operation':orders.payload[i].operation,'status':orders.payload[i].status}\n",
    "    \n",
    "df_orders = pd.DataFrame.from_dict(orders_dict,orient='index')"
   ]
  },
  {
   "cell_type": "code",
   "execution_count": null,
   "metadata": {
    "ExecuteTime": {
     "end_time": "2020-10-11T17:46:08.324644Z",
     "start_time": "2020-10-11T17:46:08.300603Z"
    }
   },
   "outputs": [],
   "source": [
    "df_orders"
   ]
  },
  {
   "cell_type": "code",
   "execution_count": null,
   "metadata": {
    "ExecuteTime": {
     "end_time": "2020-10-09T20:54:19.674408Z",
     "start_time": "2020-10-09T20:54:18.647744Z"
    }
   },
   "outputs": [],
   "source": [
    "client.market.market_stocks_get() "
   ]
  },
  {
   "cell_type": "code",
   "execution_count": null,
   "metadata": {
    "ExecuteTime": {
     "end_time": "2020-10-09T20:18:37.451962Z",
     "start_time": "2020-10-09T20:18:37.440962Z"
    }
   },
   "outputs": [],
   "source": [
    "Ticker = 'RIG'"
   ]
  },
  {
   "cell_type": "code",
   "execution_count": null,
   "metadata": {
    "ExecuteTime": {
     "end_time": "2020-10-09T20:18:40.242458Z",
     "start_time": "2020-10-09T20:18:40.223458Z"
    }
   },
   "outputs": [],
   "source": [
    "df_stocks[(df_stocks['ticker']==Ticker)]['figi'].to_list()[0]"
   ]
  },
  {
   "cell_type": "code",
   "execution_count": null,
   "metadata": {
    "ExecuteTime": {
     "end_time": "2020-10-09T20:15:14.663305Z",
     "start_time": "2020-10-09T20:15:13.899617Z"
    }
   },
   "outputs": [],
   "source": [
    "# Текущая цена интересующей котировки \n",
    "\n",
    "aapl = pdr.get_data_yahoo('RIG', \n",
    "                                  start=datetime.datetime.today().date(), \n",
    "                                  end=datetime.datetime.today().date()).reset_index()\n",
    " \n",
    "round(aapl['Close'][0],2)    "
   ]
  },
  {
   "cell_type": "code",
   "execution_count": null,
   "metadata": {
    "ExecuteTime": {
     "end_time": "2020-10-09T20:16:28.769833Z",
     "start_time": "2020-10-09T20:16:28.449955Z"
    }
   },
   "outputs": [],
   "source": [
    "# Выставление лимитной заявки\n",
    "\n",
    "order_response = client.orders.orders_limit_order_post(figi=df_stocks[(df_stocks['ticker']=='RIG')]['figi'].to_list()[0],\n",
    "                                                           limit_order_request={\"lots\": 1,\n",
    "                                                                                \"operation\": \"Buy\",\n",
    "                                                                                \"price\": round(aapl['Close'][0],2)})"
   ]
  },
  {
   "cell_type": "code",
   "execution_count": null,
   "metadata": {},
   "outputs": [],
   "source": [
    "# Отмена заявки \n",
    "\n",
    "cancellation_result = client.orders.orders_cancel_post(order_id=order_id)"
   ]
  },
  {
   "cell_type": "code",
   "execution_count": null,
   "metadata": {
    "ExecuteTime": {
     "end_time": "2020-10-11T13:04:14.004440Z",
     "start_time": "2020-10-11T13:03:35.524230Z"
    }
   },
   "outputs": [],
   "source": [
    "import yfinance as yf\n",
    "\n",
    "# Get the data for the stock AAPL\n",
    "data = yf.download('AAPL','2016-01-01','2019-08-01')"
   ]
  },
  {
   "cell_type": "code",
   "execution_count": null,
   "metadata": {
    "ExecuteTime": {
     "end_time": "2020-10-11T13:04:38.643550Z",
     "start_time": "2020-10-11T13:04:38.288796Z"
    }
   },
   "outputs": [],
   "source": [
    "data"
   ]
  }
 ],
 "metadata": {
  "kernelspec": {
   "display_name": "Python 3 (ipykernel)",
   "language": "python",
   "name": "python3"
  },
  "language_info": {
   "codemirror_mode": {
    "name": "ipython",
    "version": 3
   },
   "file_extension": ".py",
   "mimetype": "text/x-python",
   "name": "python",
   "nbconvert_exporter": "python",
   "pygments_lexer": "ipython3",
   "version": "3.9.12"
  }
 },
 "nbformat": 4,
 "nbformat_minor": 4
}
